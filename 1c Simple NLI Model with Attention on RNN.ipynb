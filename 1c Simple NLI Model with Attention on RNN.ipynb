{
  "nbformat": 4,
  "nbformat_minor": 0,
  "metadata": {
    "kernelspec": {
      "display_name": "Python 3",
      "language": "python",
      "name": "python3"
    },
    "language_info": {
      "codemirror_mode": {
        "name": "ipython",
        "version": 3
      },
      "file_extension": ".py",
      "mimetype": "text/x-python",
      "name": "python",
      "nbconvert_exporter": "python",
      "pygments_lexer": "ipython3",
      "version": "3.7.0"
    },
    "colab": {
      "name": "1c - Simple NLI Model with Attention on RNN.ipynb",
      "provenance": []
    }
  },
  "cells": [
    {
      "cell_type": "code",
      "metadata": {
        "id": "KRvZhCG_sFo6",
        "colab_type": "code",
        "colab": {}
      },
      "source": [
        "!pip install allennlp"
      ],
      "execution_count": 0,
      "outputs": []
    },
    {
      "cell_type": "code",
      "metadata": {
        "id": "6m0nFBV6O9O8",
        "colab_type": "code",
        "colab": {}
      },
      "source": [
        "import torch\n",
        "import torch.nn as nn\n",
        "import torch.nn.functional as F\n",
        "import torch.optim as optim\n",
        "\n",
        "from torchtext import data\n",
        "from torchtext import datasets\n",
        "\n",
        "import random\n",
        "import numpy as np\n",
        "\n",
        "import time\n",
        "\n",
        "from allennlp.modules.attention import (CosineAttention, \n",
        "                                        LinearAttention, \n",
        "                                        BilinearAttention,\n",
        "                                        AdditiveAttention,\n",
        "                                        DotProductAttention)\n",
        "\n",
        "from allennlp.nn.util import weighted_sum\n",
        "\n",
        "SEED = 1234\n",
        "\n",
        "random.seed(SEED)\n",
        "np.random.seed(SEED)\n",
        "torch.manual_seed(SEED)\n",
        "torch.backends.cudnn.deterministic = True\n",
        "\n",
        "TEXT = data.Field(tokenize = 'spacy', lower = True)\n",
        "LABEL = data.LabelField()"
      ],
      "execution_count": 0,
      "outputs": []
    },
    {
      "cell_type": "code",
      "metadata": {
        "id": "vrFxxb_wO9PA",
        "colab_type": "code",
        "outputId": "22deeee6-43c0-4fa4-b468-2e93dedaebdd",
        "colab": {
          "base_uri": "https://localhost:8080/",
          "height": 67
        }
      },
      "source": [
        "train_data, valid_data, test_data = datasets.SNLI.splits(TEXT, LABEL)"
      ],
      "execution_count": 3,
      "outputs": [
        {
          "output_type": "stream",
          "text": [
            "\rsnli_1.0.zip:   0%|          | 0.00/94.6M [00:00<?, ?B/s]"
          ],
          "name": "stderr"
        },
        {
          "output_type": "stream",
          "text": [
            "downloading snli_1.0.zip\n"
          ],
          "name": "stdout"
        },
        {
          "output_type": "stream",
          "text": [
            "snli_1.0.zip: 100%|██████████| 94.6M/94.6M [00:01<00:00, 64.3MB/s]\n"
          ],
          "name": "stderr"
        },
        {
          "output_type": "stream",
          "text": [
            "extracting\n"
          ],
          "name": "stdout"
        }
      ]
    },
    {
      "cell_type": "code",
      "metadata": {
        "id": "TFOHD_f7O9PD",
        "colab_type": "code",
        "outputId": "d67308fb-f5d1-4b9b-c6c4-56ce68483f3c",
        "colab": {
          "base_uri": "https://localhost:8080/",
          "height": 67
        }
      },
      "source": [
        "print(f\"Number of training examples: {len(train_data)}\")\n",
        "print(f\"Number of validation examples: {len(valid_data)}\")\n",
        "print(f\"Number of testing examples: {len(test_data)}\")"
      ],
      "execution_count": 0,
      "outputs": [
        {
          "output_type": "stream",
          "text": [
            "Number of training examples: 549367\n",
            "Number of validation examples: 9842\n",
            "Number of testing examples: 9824\n"
          ],
          "name": "stdout"
        }
      ]
    },
    {
      "cell_type": "code",
      "metadata": {
        "id": "klEFghE-O9PG",
        "colab_type": "code",
        "outputId": "3d52b472-9033-4fdb-d78f-d8f3958ee377",
        "colab": {
          "base_uri": "https://localhost:8080/",
          "height": 54
        }
      },
      "source": [
        "print(vars(train_data.examples[0]))"
      ],
      "execution_count": 0,
      "outputs": [
        {
          "output_type": "stream",
          "text": [
            "{'premise': ['a', 'person', 'on', 'a', 'horse', 'jumps', 'over', 'a', 'broken', 'down', 'airplane', '.'], 'hypothesis': ['a', 'person', 'is', 'training', 'his', 'horse', 'for', 'a', 'competition', '.'], 'label': 'neutral'}\n"
          ],
          "name": "stdout"
        }
      ]
    },
    {
      "cell_type": "code",
      "metadata": {
        "id": "fKU1zvs1O9PK",
        "colab_type": "code",
        "outputId": "9862f170-c0f6-4147-c15d-dfd421d91f6d",
        "colab": {
          "base_uri": "https://localhost:8080/",
          "height": 50
        }
      },
      "source": [
        "MIN_FREQ = 2\n",
        "\n",
        "TEXT.build_vocab(train_data, \n",
        "                 min_freq = MIN_FREQ,\n",
        "                 vectors = \"glove.6B.300d\",\n",
        "                 unk_init = torch.Tensor.normal_)\n",
        "\n",
        "LABEL.build_vocab(train_data)"
      ],
      "execution_count": 4,
      "outputs": [
        {
          "output_type": "stream",
          "text": [
            ".vector_cache/glove.6B.zip: 862MB [06:33, 2.19MB/s]                           \n",
            "100%|█████████▉| 399756/400000 [00:48<00:00, 8381.88it/s]\n"
          ],
          "name": "stderr"
        }
      ]
    },
    {
      "cell_type": "code",
      "metadata": {
        "id": "pako8gvpO9PM",
        "colab_type": "code",
        "outputId": "91b24d91-6ede-435f-cbfc-7d7ff0c9f66f",
        "colab": {
          "base_uri": "https://localhost:8080/",
          "height": 34
        }
      },
      "source": [
        "print(f\"Unique tokens in TEXT vocabulary: {len(TEXT.vocab)}\")"
      ],
      "execution_count": 0,
      "outputs": [
        {
          "output_type": "stream",
          "text": [
            "Unique tokens in TEXT vocabulary: 23566\n"
          ],
          "name": "stdout"
        }
      ]
    },
    {
      "cell_type": "code",
      "metadata": {
        "id": "rwSdrU2jO9PP",
        "colab_type": "code",
        "outputId": "6ae05de9-4e84-40f8-b9c2-df70447d734b",
        "colab": {
          "base_uri": "https://localhost:8080/",
          "height": 54
        }
      },
      "source": [
        "print(TEXT.vocab.freqs.most_common(20))"
      ],
      "execution_count": 0,
      "outputs": [
        {
          "output_type": "stream",
          "text": [
            "[('a', 1438991), ('.', 962558), ('the', 534692), ('in', 407296), ('is', 373543), ('man', 266236), ('on', 235904), ('and', 206363), ('are', 199114), ('of', 192428), ('with', 169236), ('woman', 137630), ('two', 122259), ('people', 121154), (',', 114331), ('to', 113972), ('at', 98656), ('wearing', 81024), ('an', 80212), ('his', 72467)]\n"
          ],
          "name": "stdout"
        }
      ]
    },
    {
      "cell_type": "code",
      "metadata": {
        "id": "KMneB8JIO9PS",
        "colab_type": "code",
        "outputId": "18db5dfc-83f7-4ff1-93e9-dfd8ccb10946",
        "colab": {
          "base_uri": "https://localhost:8080/",
          "height": 34
        }
      },
      "source": [
        "print(TEXT.vocab.itos[:10])"
      ],
      "execution_count": 0,
      "outputs": [
        {
          "output_type": "stream",
          "text": [
            "['<unk>', '<pad>', 'a', '.', 'the', 'in', 'is', 'man', 'on', 'and']\n"
          ],
          "name": "stdout"
        }
      ]
    },
    {
      "cell_type": "code",
      "metadata": {
        "id": "E656jc54O9PU",
        "colab_type": "code",
        "outputId": "e0a06f70-6caf-40b7-ae16-3be0ff54defa",
        "colab": {
          "base_uri": "https://localhost:8080/",
          "height": 34
        }
      },
      "source": [
        "print(LABEL.vocab.itos)"
      ],
      "execution_count": 0,
      "outputs": [
        {
          "output_type": "stream",
          "text": [
            "['entailment', 'contradiction', 'neutral']\n"
          ],
          "name": "stdout"
        }
      ]
    },
    {
      "cell_type": "code",
      "metadata": {
        "id": "6PSDjR0RO9PW",
        "colab_type": "code",
        "outputId": "aa10ee7a-9791-47cc-93fc-792b8f5aa730",
        "colab": {
          "base_uri": "https://localhost:8080/",
          "height": 34
        }
      },
      "source": [
        "print(LABEL.vocab.freqs.most_common())"
      ],
      "execution_count": 0,
      "outputs": [
        {
          "output_type": "stream",
          "text": [
            "[('entailment', 183416), ('contradiction', 183187), ('neutral', 182764)]\n"
          ],
          "name": "stdout"
        }
      ]
    },
    {
      "cell_type": "code",
      "metadata": {
        "id": "VSxIFDzCO9PZ",
        "colab_type": "code",
        "colab": {}
      },
      "source": [
        "BATCH_SIZE = 512\n",
        "\n",
        "device = torch.device('cuda' if torch.cuda.is_available() else 'cpu')\n",
        "\n",
        "train_iterator, valid_iterator, test_iterator = data.BucketIterator.splits(\n",
        "    (train_data, valid_data, test_data), \n",
        "    batch_size = BATCH_SIZE,\n",
        "    device = device)"
      ],
      "execution_count": 0,
      "outputs": []
    },
    {
      "cell_type": "code",
      "metadata": {
        "id": "Te24ffT4PLG7",
        "colab_type": "code",
        "colab": {}
      },
      "source": [
        "# We do not use this implementation\n",
        "# This function takes the output and hidden tensors\n",
        "# of an lstm, or gru. We will use allennlp attentions instead\n",
        "\n",
        "def attention(out, hidden):\n",
        "    out = out.permute(1,0,2)\n",
        "    hidden = hidden.squeeze(0)\n",
        "    attn_weights = torch.einsum('pqr,pr->pq', [out, hidden])\n",
        "    soft_attn_weights = F.softmax(attn_weights, 1)\n",
        "    new_hid = torch.einsum('pqr,pq->pr', [out, soft_attn_weights])\n",
        "    return new_hid"
      ],
      "execution_count": 0,
      "outputs": []
    },
    {
      "cell_type": "code",
      "metadata": {
        "id": "a2ss7xoVt5qI",
        "colab_type": "code",
        "colab": {}
      },
      "source": [
        "cosineAttention = CosineAttention(True)"
      ],
      "execution_count": 0,
      "outputs": []
    },
    {
      "cell_type": "code",
      "metadata": {
        "id": "zSVZiv_bt_Zh",
        "colab_type": "code",
        "colab": {}
      },
      "source": [
        ""
      ],
      "execution_count": 0,
      "outputs": []
    },
    {
      "cell_type": "code",
      "metadata": {
        "id": "prJ__ntIO9QH",
        "colab_type": "code",
        "colab": {}
      },
      "source": [
        "class NLIRNN(nn.Module):\n",
        "    def __init__(self, \n",
        "                 vocab_size, \n",
        "                 encode_method,\n",
        "                 embedding_dim,\n",
        "                 hidden_dim,\n",
        "                 fc_layers,\n",
        "                 output_dim, \n",
        "                 dropout, \n",
        "                 pad_idx):\n",
        "        \n",
        "        super().__init__()\n",
        "                \n",
        "        assert encode_method in {'gru', 'lstm'}\n",
        "        \n",
        "        self.encode_method = encode_method\n",
        "        \n",
        "        self.embedding = nn.Embedding(vocab_size, embedding_dim, padding_idx = pad_idx)\n",
        "        \n",
        "        self.translation = nn.Linear(embedding_dim, hidden_dim)\n",
        "        \n",
        "        if encode_method == 'gru':\n",
        "            self.rnn = nn.GRU(hidden_dim, hidden_dim)\n",
        "        elif encode_method == 'lstm':\n",
        "            self.rnn = nn.LSTM(hidden_dim, hidden_dim)\n",
        "        \n",
        "        fcs = [nn.Linear(hidden_dim * 2, hidden_dim * 2) for _ in range(fc_layers)]\n",
        "        \n",
        "        self.fcs = nn.ModuleList(fcs)\n",
        "        \n",
        "        self.fc_out = nn.Linear(hidden_dim * 2, output_dim)\n",
        "        \n",
        "        self.dropout = nn.Dropout(dropout)\n",
        "        \n",
        "    def forward(self, prem, hypo):\n",
        "\n",
        "        #prem = [prem sent len, batch size]\n",
        "        #hypo = [hypo sent len, batch size]\n",
        "        \n",
        "        embedded_prem = self.embedding(prem)\n",
        "        embedded_hypo = self.embedding(hypo)\n",
        "        \n",
        "        #embedded_prem = [prem sent len, batch size, embedding dim]\n",
        "        #embedded_hypo = [hypo sent len, batch size, embedding dim]\n",
        "        \n",
        "        translated_prem = F.relu(self.translation(embedded_prem))\n",
        "        translated_hypo = F.relu(self.translation(embedded_hypo))\n",
        "        \n",
        "        #translated_prem = [prem sent len, batch size, hidden dim]\n",
        "        #translated_hypo = [hypo sent len, batch size, hidden dim]\n",
        "        \n",
        "        if self.encode_method == 'gru':\n",
        "            \n",
        "            outputs_prem, hidden_prem = self.rnn(translated_prem)\n",
        "            # instead of the following four lines we could use this:\n",
        "            # hidden_prem = attention(outputs_prem, hidden_prem)\n",
        "\n",
        "            outputs_prem = outputs_prem.permute(1,0,2)\n",
        "            hidden_prem = hidden_prem.squeeze(0)\n",
        "            hidden_prem_att = cosineAttention(hidden_prem, outputs_prem)\n",
        "            hidden_prem = weighted_sum(hidden_prem, hidden_prem_att)\n",
        "\n",
        "            outputs_hypo, hidden_hypo = self.rnn(translated_hypo)\n",
        "            outputs_hypo = outputs_hypo.permute(1,0,2)\n",
        "            hidden_hypo = hidden_hypo.squeeze(0)\n",
        "            hidden_hypo_att = cosineAttention(hidden_hypo, outputs_hypo)\n",
        "            hidden_hypo = weighted_sum(hidden_hypo, hidden_hypo_att)\n",
        "            #or: hidden_hypo = attention(outputs_hypo, hidden_hypo)\n",
        "            \n",
        "            #outputs_x = [sent len, batch size, hid dim]\n",
        "            #hidden_x = [1, batch size, hid dim]\n",
        "            \n",
        "            hidden_prem = hidden_prem.squeeze(0)\n",
        "            hidden_hypo = hidden_hypo.squeeze(0)\n",
        "            \n",
        "            #hidden_x = [batch size, hid dim]\n",
        "        \n",
        "        else:\n",
        "            \n",
        "            outputs_prem, (hidden_prem, cell_prem) = self.rnn(translated_prem)\n",
        "            outputs_prem = outputs_prem.permute(1,0,2)\n",
        "            hidden_prem = hidden_prem.squeeze(0)\n",
        "            hidden_prem_att = cosineAttention(hidden_prem, outputs_prem)\n",
        "            hidden_prem = weighted_sum(hidden_prem, hidden_prem_att)\n",
        "            #or: hidden_prem = attention(outputs_prem, hidden_prem)\n",
        "\n",
        "            outputs_hypo, (hidden_hypo, cell_hypo) = self.rnn(translated_hypo)\n",
        "            outputs_hypo = outputs_hypo.permute(1,0,2)\n",
        "            hidden_hypo = hidden_hypo.squeeze(0)\n",
        "            hidden_hypo_att = cosineAttention(hidden_hypo, outputs_hypo)\n",
        "            hidden_prem = weighted_sum(hidden_prem, hidden_prem_att)\n",
        "            \n",
        "            #outputs_x = [sent len, batch size, hid dim]\n",
        "            #hidden_x = [1, batch size, hid dim]\n",
        "            #cell_x = [1, batch size, hid dim]\n",
        "            \n",
        "            hidden_prem = hidden_prem.squeeze(0)\n",
        "            hidden_hypo = hidden_hypo.squeeze(0)\n",
        "            \n",
        "            #hidden_x = [batch size, hid dim]\n",
        "\n",
        "        hidden = torch.cat((hidden_prem, hidden_hypo), dim=1)\n",
        "\n",
        "        #hidden = [batch size, hid dim * 2]\n",
        "            \n",
        "        for fc in self.fcs:\n",
        "            hidden = fc(hidden)\n",
        "            hidden = F.relu(hidden)\n",
        "            hidden = self.dropout(hidden)\n",
        "        \n",
        "        prediction = self.fc_out(hidden)\n",
        "        \n",
        "        #prediction = [batch size, output dim]\n",
        "        \n",
        "        return prediction"
      ],
      "execution_count": 0,
      "outputs": []
    },
    {
      "cell_type": "code",
      "metadata": {
        "id": "HEka-0PHO9Pe",
        "colab_type": "code",
        "colab": {}
      },
      "source": [
        "INPUT_DIM = len(TEXT.vocab)\n",
        "EMBEDDING_DIM = 300\n",
        "HIDDEN_DIM = 300\n",
        "FC_LAYERS = 3\n",
        "OUTPUT_DIM = len(LABEL.vocab)\n",
        "DROPOUT = 0.25\n",
        "PAD_IDX = TEXT.vocab.stoi[TEXT.pad_token]\n",
        "\n",
        "model = NLIRNN(INPUT_DIM,\n",
        "               'lstm',\n",
        "               EMBEDDING_DIM,\n",
        "               HIDDEN_DIM,\n",
        "               FC_LAYERS,\n",
        "               OUTPUT_DIM,\n",
        "               DROPOUT,\n",
        "               PAD_IDX)"
      ],
      "execution_count": 0,
      "outputs": []
    },
    {
      "cell_type": "code",
      "metadata": {
        "id": "jgE5RSU5O9Pg",
        "colab_type": "code",
        "outputId": "8ac3bb0e-0851-4e14-ba3a-9b6b7516dd1c",
        "colab": {
          "base_uri": "https://localhost:8080/",
          "height": 218
        }
      },
      "source": [
        "def init_weights(m):\n",
        "    for name, param in m.named_parameters():\n",
        "        nn.init.normal_(param.data, mean=0, std=0.1)\n",
        "        \n",
        "model.apply(init_weights)"
      ],
      "execution_count": 26,
      "outputs": [
        {
          "output_type": "execute_result",
          "data": {
            "text/plain": [
              "NLIRNN(\n",
              "  (embedding): Embedding(23566, 300, padding_idx=1)\n",
              "  (translation): Linear(in_features=300, out_features=300, bias=True)\n",
              "  (rnn): LSTM(300, 300)\n",
              "  (fcs): ModuleList(\n",
              "    (0): Linear(in_features=600, out_features=600, bias=True)\n",
              "    (1): Linear(in_features=600, out_features=600, bias=True)\n",
              "    (2): Linear(in_features=600, out_features=600, bias=True)\n",
              "  )\n",
              "  (fc_out): Linear(in_features=600, out_features=3, bias=True)\n",
              "  (dropout): Dropout(p=0.25, inplace=False)\n",
              ")"
            ]
          },
          "metadata": {
            "tags": []
          },
          "execution_count": 26
        }
      ]
    },
    {
      "cell_type": "code",
      "metadata": {
        "id": "1GrdgTxwO9Pi",
        "colab_type": "code",
        "outputId": "139ce1f7-bd0d-4871-f2aa-57730e4b6106",
        "colab": {
          "base_uri": "https://localhost:8080/",
          "height": 34
        }
      },
      "source": [
        "def count_parameters(model):\n",
        "    return sum(p.numel() for p in model.parameters() if p.requires_grad)\n",
        "\n",
        "print(f'The model has {count_parameters(model):,} trainable parameters')"
      ],
      "execution_count": 27,
      "outputs": [
        {
          "output_type": "stream",
          "text": [
            "The model has 8,966,103 trainable parameters\n"
          ],
          "name": "stdout"
        }
      ]
    },
    {
      "cell_type": "code",
      "metadata": {
        "id": "p6T_-3D0O9Pl",
        "colab_type": "code",
        "outputId": "15e91ab2-0a6f-4204-8ebd-1c4b7d1963fc",
        "colab": {
          "base_uri": "https://localhost:8080/",
          "height": 34
        }
      },
      "source": [
        "pretrained_embeddings = TEXT.vocab.vectors\n",
        "\n",
        "print(pretrained_embeddings.shape)"
      ],
      "execution_count": 28,
      "outputs": [
        {
          "output_type": "stream",
          "text": [
            "torch.Size([23566, 300])\n"
          ],
          "name": "stdout"
        }
      ]
    },
    {
      "cell_type": "code",
      "metadata": {
        "id": "Ja1pRBi4O9Po",
        "colab_type": "code",
        "outputId": "a4487511-37ef-4dfb-8e24-4d41c919e6f8",
        "colab": {
          "base_uri": "https://localhost:8080/",
          "height": 134
        }
      },
      "source": [
        "model.embedding.weight.data.copy_(pretrained_embeddings)"
      ],
      "execution_count": 29,
      "outputs": [
        {
          "output_type": "execute_result",
          "data": {
            "text/plain": [
              "tensor([[-0.1117, -0.4966,  0.1631,  ..., -1.4447,  0.8402, -0.8668],\n",
              "        [ 0.1032, -1.6268,  0.5729,  ...,  0.3180, -0.1626, -0.0417],\n",
              "        [-0.2971,  0.0940, -0.0967,  ...,  0.0597, -0.2285,  0.2960],\n",
              "        ...,\n",
              "        [-0.2149,  0.0846, -0.2949,  ...,  0.2379,  0.4804, -0.3348],\n",
              "        [-0.2983, -0.2664, -0.0631,  ..., -0.1577,  1.0438, -0.6433],\n",
              "        [ 0.3580, -0.0304,  0.3355,  ...,  0.0703, -0.5158,  0.1819]])"
            ]
          },
          "metadata": {
            "tags": []
          },
          "execution_count": 29
        }
      ]
    },
    {
      "cell_type": "code",
      "metadata": {
        "id": "mdYeUrJUO9Pq",
        "colab_type": "code",
        "outputId": "fca4e617-ecaa-48ae-9a05-53254c01fe44",
        "colab": {
          "base_uri": "https://localhost:8080/",
          "height": 134
        }
      },
      "source": [
        "UNK_IDX = TEXT.vocab.stoi[TEXT.unk_token]\n",
        "\n",
        "model.embedding.weight.data[UNK_IDX] = torch.zeros(EMBEDDING_DIM)\n",
        "model.embedding.weight.data[PAD_IDX] = torch.zeros(EMBEDDING_DIM)\n",
        "\n",
        "print(model.embedding.weight.data)"
      ],
      "execution_count": 30,
      "outputs": [
        {
          "output_type": "stream",
          "text": [
            "tensor([[ 0.0000,  0.0000,  0.0000,  ...,  0.0000,  0.0000,  0.0000],\n",
            "        [ 0.0000,  0.0000,  0.0000,  ...,  0.0000,  0.0000,  0.0000],\n",
            "        [-0.2971,  0.0940, -0.0967,  ...,  0.0597, -0.2285,  0.2960],\n",
            "        ...,\n",
            "        [-0.2149,  0.0846, -0.2949,  ...,  0.2379,  0.4804, -0.3348],\n",
            "        [-0.2983, -0.2664, -0.0631,  ..., -0.1577,  1.0438, -0.6433],\n",
            "        [ 0.3580, -0.0304,  0.3355,  ...,  0.0703, -0.5158,  0.1819]])\n"
          ],
          "name": "stdout"
        }
      ]
    },
    {
      "cell_type": "code",
      "metadata": {
        "id": "KDhldluJO9Ps",
        "colab_type": "code",
        "colab": {}
      },
      "source": [
        "model.embedding.weight.requires_grad = False"
      ],
      "execution_count": 0,
      "outputs": []
    },
    {
      "cell_type": "code",
      "metadata": {
        "id": "UboB1KQhO9Pu",
        "colab_type": "code",
        "outputId": "60e01d04-ae59-4972-d6f7-dcc39fd921bc",
        "colab": {
          "base_uri": "https://localhost:8080/",
          "height": 34
        }
      },
      "source": [
        "def count_parameters(model):\n",
        "    return sum(p.numel() for p in model.parameters() if p.requires_grad)\n",
        "\n",
        "print(f'The model has {count_parameters(model):,} trainable parameters')"
      ],
      "execution_count": 32,
      "outputs": [
        {
          "output_type": "stream",
          "text": [
            "The model has 1,896,303 trainable parameters\n"
          ],
          "name": "stdout"
        }
      ]
    },
    {
      "cell_type": "code",
      "metadata": {
        "id": "6t9DWlqAO9Py",
        "colab_type": "code",
        "colab": {}
      },
      "source": [
        "optimizer = optim.Adam(model.parameters())"
      ],
      "execution_count": 0,
      "outputs": []
    },
    {
      "cell_type": "code",
      "metadata": {
        "id": "1CA29FlcO9P1",
        "colab_type": "code",
        "colab": {}
      },
      "source": [
        "criterion = nn.CrossEntropyLoss()"
      ],
      "execution_count": 0,
      "outputs": []
    },
    {
      "cell_type": "code",
      "metadata": {
        "id": "dVmMYAaBO9P4",
        "colab_type": "code",
        "colab": {}
      },
      "source": [
        "model = model.to(device)\n",
        "criterion = criterion.to(device)"
      ],
      "execution_count": 0,
      "outputs": []
    },
    {
      "cell_type": "code",
      "metadata": {
        "id": "bLrymJA7O9P6",
        "colab_type": "code",
        "colab": {}
      },
      "source": [
        "def categorical_accuracy(preds, y):\n",
        "    \"\"\"\n",
        "    Returns accuracy per batch, i.e. if you get 8/10 right, this returns 0.8, NOT 8\n",
        "    \"\"\"\n",
        "    max_preds = preds.argmax(dim = 1, keepdim = True) # get the index of the max probability\n",
        "    correct = max_preds.squeeze(1).eq(y)\n",
        "    return correct.sum() / torch.FloatTensor([y.shape[0]])"
      ],
      "execution_count": 0,
      "outputs": []
    },
    {
      "cell_type": "code",
      "metadata": {
        "id": "4Gk_7ZvaO9P8",
        "colab_type": "code",
        "colab": {}
      },
      "source": [
        "def train(model, iterator, optimizer, criterion):\n",
        "    \n",
        "    epoch_loss = 0\n",
        "    epoch_acc = 0\n",
        "    \n",
        "    model.train()\n",
        "    \n",
        "    for batch in iterator:\n",
        "        \n",
        "        prem = batch.premise\n",
        "        hypo = batch.hypothesis\n",
        "        labels = batch.label\n",
        "        \n",
        "        optimizer.zero_grad()\n",
        "        \n",
        "        #prem = [prem sent len, batch size]\n",
        "        #hypo = [hypo sent len, batch size]\n",
        "        \n",
        "        predictions = model(prem, hypo)\n",
        "        \n",
        "        #predictions = [batch size, output dim]\n",
        "        #labels = [batch size]\n",
        "        \n",
        "        loss = criterion(predictions, labels)\n",
        "                \n",
        "        acc = categorical_accuracy(predictions, labels)\n",
        "        \n",
        "        loss.backward()\n",
        "        \n",
        "        optimizer.step()\n",
        "        \n",
        "        epoch_loss += loss.item()\n",
        "        epoch_acc += acc.item()\n",
        "        \n",
        "    return epoch_loss / len(iterator), epoch_acc / len(iterator)"
      ],
      "execution_count": 0,
      "outputs": []
    },
    {
      "cell_type": "code",
      "metadata": {
        "id": "RbLeorN4O9P_",
        "colab_type": "code",
        "colab": {}
      },
      "source": [
        "def evaluate(model, iterator, criterion):\n",
        "    \n",
        "    epoch_loss = 0\n",
        "    epoch_acc = 0\n",
        "    \n",
        "    model.eval()\n",
        "    \n",
        "    with torch.no_grad():\n",
        "    \n",
        "        for batch in iterator:\n",
        "\n",
        "            prem = batch.premise\n",
        "            hypo = batch.hypothesis\n",
        "            labels = batch.label\n",
        "                        \n",
        "            predictions = model(prem, hypo)\n",
        "            \n",
        "            loss = criterion(predictions, labels)\n",
        "                \n",
        "            acc = categorical_accuracy(predictions, labels)\n",
        "            \n",
        "            epoch_loss += loss.item()\n",
        "            epoch_acc += acc.item()\n",
        "        \n",
        "    return epoch_loss / len(iterator), epoch_acc / len(iterator)"
      ],
      "execution_count": 0,
      "outputs": []
    },
    {
      "cell_type": "code",
      "metadata": {
        "id": "22p-fxxcO9QB",
        "colab_type": "code",
        "colab": {}
      },
      "source": [
        "def epoch_time(start_time, end_time):\n",
        "    elapsed_time = end_time - start_time\n",
        "    elapsed_mins = int(elapsed_time / 60)\n",
        "    elapsed_secs = int(elapsed_time - (elapsed_mins * 60))\n",
        "    return elapsed_mins, elapsed_secs"
      ],
      "execution_count": 0,
      "outputs": []
    },
    {
      "cell_type": "code",
      "metadata": {
        "id": "WvYFMZQhyGAA",
        "colab_type": "code",
        "colab": {}
      },
      "source": [
        "N_EPOCHS = 10\n",
        "\n",
        "best_valid_loss = float('inf')\n",
        "\n",
        "for epoch in range(N_EPOCHS):\n",
        "\n",
        "    start_time = time.time()\n",
        "    \n",
        "    train_loss, train_acc = train(model, train_iterator, optimizer, criterion)\n",
        "    valid_loss, valid_acc = evaluate(model, valid_iterator, criterion)\n",
        "    \n",
        "    end_time = time.time()\n",
        "\n",
        "    epoch_mins, epoch_secs = epoch_time(start_time, end_time)\n",
        "    \n",
        "    if valid_loss < best_valid_loss:\n",
        "        best_valid_loss = valid_loss\n",
        "        torch.save(model.state_dict(), 'tut1-model.pt')\n",
        "    \n",
        "    print(f'Epoch: {epoch+1:02} | Epoch Time: {epoch_mins}m {epoch_secs}s')\n",
        "    print(f'\\tTrain Loss: {train_loss:.3f} | Train Acc: {train_acc*100:.2f}%')\n",
        "    print(f'\\t Val. Loss: {valid_loss:.3f} |  Val. Acc: {valid_acc*100:.2f}%')"
      ],
      "execution_count": 0,
      "outputs": []
    },
    {
      "cell_type": "code",
      "metadata": {
        "id": "rIeT-zttO9QF",
        "colab_type": "code",
        "colab": {}
      },
      "source": [
        "test_loss, test_acc = evaluate(model, test_iterator, criterion)\n",
        "\n",
        "print(f'Test Loss: {test_loss:.3f} |  Test Acc: {test_acc*100:.2f}%')"
      ],
      "execution_count": 0,
      "outputs": []
    },
    {
      "cell_type": "code",
      "metadata": {
        "id": "608bEpnvXq5q",
        "colab_type": "code",
        "colab": {}
      },
      "source": [
        "#Test Loss: 0.697 |  Test Acc: 71.72%"
      ],
      "execution_count": 0,
      "outputs": []
    }
  ]
}