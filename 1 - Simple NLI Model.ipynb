{
 "cells": [
  {
   "cell_type": "code",
   "execution_count": 1,
   "metadata": {},
   "outputs": [],
   "source": [
    "import torch\n",
    "from torchtext import data\n",
    "\n",
    "SEED = 1234\n",
    "\n",
    "torch.manual_seed(SEED)\n",
    "torch.backends.cudnn.deterministic = True\n",
    "\n",
    "TEXT = data.Field(tokenize='spacy')\n",
    "LABEL = data.LabelField()"
   ]
  },
  {
   "cell_type": "code",
   "execution_count": 2,
   "metadata": {},
   "outputs": [],
   "source": [
    "from torchtext import datasets\n",
    "\n",
    "train_data, valid_data, test_data = datasets.SNLI.splits(TEXT, LABEL)"
   ]
  },
  {
   "cell_type": "code",
   "execution_count": 3,
   "metadata": {},
   "outputs": [
    {
     "name": "stdout",
     "output_type": "stream",
     "text": [
      "Number of training examples: 549367\n",
      "Number of validation examples: 9842\n",
      "Number of testing examples: 9824\n"
     ]
    }
   ],
   "source": [
    "print(f\"Number of training examples: {len(train_data)}\")\n",
    "print(f\"Number of validation examples: {len(valid_data)}\")\n",
    "print(f\"Number of testing examples: {len(test_data)}\")"
   ]
  },
  {
   "cell_type": "code",
   "execution_count": 4,
   "metadata": {},
   "outputs": [
    {
     "name": "stdout",
     "output_type": "stream",
     "text": [
      "{'premise': ['A', 'person', 'on', 'a', 'horse', 'jumps', 'over', 'a', 'broken', 'down', 'airplane', '.'], 'hypothesis': ['A', 'person', 'is', 'training', 'his', 'horse', 'for', 'a', 'competition', '.'], 'label': 'neutral'}\n"
     ]
    }
   ],
   "source": [
    "print(vars(train_data.examples[0]))"
   ]
  },
  {
   "cell_type": "code",
   "execution_count": 5,
   "metadata": {},
   "outputs": [],
   "source": [
    "MIN_FREQ = 2\n",
    "\n",
    "TEXT.build_vocab(train_data, \n",
    "                 min_freq = MIN_FREQ,\n",
    "                 vectors = \"glove.840B.300d\",\n",
    "                 unk_init = torch.Tensor.normal_)\n",
    "\n",
    "LABEL.build_vocab(train_data)"
   ]
  },
  {
   "cell_type": "code",
   "execution_count": 6,
   "metadata": {},
   "outputs": [
    {
     "name": "stdout",
     "output_type": "stream",
     "text": [
      "Unique tokens in TEXT vocabulary: 27587\n"
     ]
    }
   ],
   "source": [
    "print(f\"Unique tokens in TEXT vocabulary: {len(TEXT.vocab)}\")"
   ]
  },
  {
   "cell_type": "code",
   "execution_count": 7,
   "metadata": {},
   "outputs": [
    {
     "name": "stdout",
     "output_type": "stream",
     "text": [
      "[('.', 962558), ('a', 922222), ('A', 516769), ('in', 406005), ('is', 373433), ('the', 369849), ('man', 256428), ('on', 235198), ('and', 206278), ('are', 199010), ('of', 192390), ('with', 169013), ('The', 164283), ('woman', 133181), (',', 114331), ('to', 113904), ('at', 97993), ('people', 95937), ('Two', 90409), ('wearing', 80966)]\n"
     ]
    }
   ],
   "source": [
    "print(TEXT.vocab.freqs.most_common(20))"
   ]
  },
  {
   "cell_type": "code",
   "execution_count": 8,
   "metadata": {},
   "outputs": [
    {
     "name": "stdout",
     "output_type": "stream",
     "text": [
      "['<unk>', '<pad>', '.', 'a', 'A', 'in', 'is', 'the', 'man', 'on']\n"
     ]
    }
   ],
   "source": [
    "print(TEXT.vocab.itos[:10])"
   ]
  },
  {
   "cell_type": "code",
   "execution_count": 9,
   "metadata": {},
   "outputs": [
    {
     "name": "stdout",
     "output_type": "stream",
     "text": [
      "['entailment', 'contradiction', 'neutral']\n"
     ]
    }
   ],
   "source": [
    "print(LABEL.vocab.itos)"
   ]
  },
  {
   "cell_type": "code",
   "execution_count": 10,
   "metadata": {},
   "outputs": [
    {
     "name": "stdout",
     "output_type": "stream",
     "text": [
      "[('entailment', 183416), ('contradiction', 183187), ('neutral', 182764)]\n"
     ]
    }
   ],
   "source": [
    "print(LABEL.vocab.freqs.most_common())"
   ]
  },
  {
   "cell_type": "code",
   "execution_count": 11,
   "metadata": {},
   "outputs": [],
   "source": [
    "BATCH_SIZE = 512\n",
    "\n",
    "device = torch.device('cuda' if torch.cuda.is_available() else 'cpu')\n",
    "\n",
    "train_iterator, valid_iterator, test_iterator = data.BucketIterator.splits(\n",
    "    (train_data, valid_data, test_data), \n",
    "    batch_size = BATCH_SIZE,\n",
    "    device = device)"
   ]
  },
  {
   "cell_type": "code",
   "execution_count": 12,
   "metadata": {},
   "outputs": [],
   "source": [
    "import torch.nn as nn\n",
    "import torch.nn.functional as F\n",
    "\n",
    "class NLISum(nn.Module):\n",
    "    def __init__(self, \n",
    "                 vocab_size, \n",
    "                 embedding_dim,\n",
    "                 hidden_dim,\n",
    "                 fc_layers,\n",
    "                 output_dim, \n",
    "                 dropout, \n",
    "                 pad_idx):\n",
    "        \n",
    "        super().__init__()\n",
    "        \n",
    "        self.embedding = nn.Embedding(vocab_size, embedding_dim, padding_idx = pad_idx)\n",
    "        \n",
    "        self.translation = nn.Linear(embedding_dim, hidden_dim)\n",
    "        \n",
    "        fcs = [nn.Linear(hidden_dim * 2, hidden_dim * 2) for _ in range(fc_layers)]\n",
    "        \n",
    "        self.fcs = nn.ModuleList(fcs)\n",
    "        \n",
    "        self.fc_out = nn.Linear(hidden_dim * 2, output_dim)\n",
    "        \n",
    "        self.dropout = nn.Dropout(dropout)\n",
    "        \n",
    "    def forward(self, prem, hypo):\n",
    "\n",
    "        #prem = [prem sent len, batch size]\n",
    "        #hypo = [hypo sent len, batch size]\n",
    "        \n",
    "        embedded_prem = self.embedding(prem)\n",
    "        embedded_hypo = self.embedding(hypo)\n",
    "        \n",
    "        #embedded_premise = [prem sent len, batch size, embedding dim]\n",
    "        #embedded_hypothesis = [hypo sent len, batch size, embedding dim]\n",
    "        \n",
    "        translated_prem = F.relu(self.translation(embedded_prem))\n",
    "        translated_hypo = F.relu(self.translation(embedded_hypo))\n",
    "        \n",
    "        #embedded_premise = [prem sent len, batch size, hidden dim]\n",
    "        #embedded_hypothesis = [hypo sent len, batch size, hidden dim]\n",
    "        \n",
    "        hidden_prem = translated_prem.sum(dim=0)\n",
    "        hidden_hypo = translated_hypo.sum(dim=0)\n",
    "            \n",
    "        #hidden_x = [batch size, hid dim]\n",
    "        \n",
    "        hidden = torch.cat((hidden_prem, hidden_hypo), dim=1)\n",
    "\n",
    "        #hidden = [batch size, hid dim * 2]\n",
    "            \n",
    "        for fc in self.fcs:\n",
    "            hidden = fc(hidden)\n",
    "            hidden = F.relu(hidden)\n",
    "            hidden = self.dropout(hidden)\n",
    "        \n",
    "        prediction = self.fc_out(hidden)\n",
    "        \n",
    "        #prediction = [batch size, output dim]\n",
    "        \n",
    "        return prediction"
   ]
  },
  {
   "cell_type": "code",
   "execution_count": 13,
   "metadata": {},
   "outputs": [],
   "source": [
    "INPUT_DIM = len(TEXT.vocab)\n",
    "EMBEDDING_DIM = 300\n",
    "HIDDEN_DIM = 300\n",
    "FC_LAYERS = 3\n",
    "OUTPUT_DIM = len(LABEL.vocab)\n",
    "DROPOUT = 0.25\n",
    "PAD_IDX = TEXT.vocab.stoi[TEXT.pad_token]\n",
    "\n",
    "model = NLISum(INPUT_DIM,\n",
    "               EMBEDDING_DIM,\n",
    "               HIDDEN_DIM,\n",
    "               FC_LAYERS,\n",
    "               OUTPUT_DIM,\n",
    "               DROPOUT,\n",
    "               PAD_IDX)"
   ]
  },
  {
   "cell_type": "code",
   "execution_count": 14,
   "metadata": {},
   "outputs": [
    {
     "data": {
      "text/plain": [
       "SNLI(\n",
       "  (embedding): Embedding(27587, 300, padding_idx=1)\n",
       "  (translation): Linear(in_features=300, out_features=300, bias=True)\n",
       "  (fcs): ModuleList(\n",
       "    (0): Linear(in_features=600, out_features=600, bias=True)\n",
       "    (1): Linear(in_features=600, out_features=600, bias=True)\n",
       "    (2): Linear(in_features=600, out_features=600, bias=True)\n",
       "  )\n",
       "  (fc_out): Linear(in_features=600, out_features=3, bias=True)\n",
       "  (dropout): Dropout(p=0.25, inplace=False)\n",
       ")"
      ]
     },
     "execution_count": 14,
     "metadata": {},
     "output_type": "execute_result"
    }
   ],
   "source": [
    "def init_weights(m):\n",
    "    for name, param in m.named_parameters():\n",
    "        nn.init.normal_(param.data, mean=0, std=0.1)\n",
    "        \n",
    "model.apply(init_weights)"
   ]
  },
  {
   "cell_type": "code",
   "execution_count": 15,
   "metadata": {},
   "outputs": [
    {
     "name": "stdout",
     "output_type": "stream",
     "text": [
      "The model has 9,450,003 trainable parameters\n"
     ]
    }
   ],
   "source": [
    "def count_parameters(model):\n",
    "    return sum(p.numel() for p in model.parameters() if p.requires_grad)\n",
    "\n",
    "print(f'The model has {count_parameters(model):,} trainable parameters')"
   ]
  },
  {
   "cell_type": "code",
   "execution_count": 16,
   "metadata": {},
   "outputs": [
    {
     "name": "stdout",
     "output_type": "stream",
     "text": [
      "torch.Size([27587, 300])\n"
     ]
    }
   ],
   "source": [
    "pretrained_embeddings = TEXT.vocab.vectors\n",
    "\n",
    "print(pretrained_embeddings.shape)"
   ]
  },
  {
   "cell_type": "code",
   "execution_count": 17,
   "metadata": {},
   "outputs": [
    {
     "data": {
      "text/plain": [
       "tensor([[-0.1117, -0.4966,  0.1631,  ..., -1.4447,  0.8402, -0.8668],\n",
       "        [ 0.1032, -1.6268,  0.5729,  ...,  0.3180, -0.1626, -0.0417],\n",
       "        [ 0.0120,  0.2075, -0.1258,  ...,  0.1387, -0.3605, -0.0350],\n",
       "        ...,\n",
       "        [ 0.3759, -0.1128,  0.3870,  ...,  0.3146,  0.1263,  0.9477],\n",
       "        [ 0.6011,  0.4813,  0.3344,  ...,  0.2632,  0.5857, -0.2197],\n",
       "        [ 0.0667, -0.1165,  0.0910,  ..., -0.0081, -0.1964, -0.2732]])"
      ]
     },
     "execution_count": 17,
     "metadata": {},
     "output_type": "execute_result"
    }
   ],
   "source": [
    "model.embedding.weight.data.copy_(pretrained_embeddings)"
   ]
  },
  {
   "cell_type": "code",
   "execution_count": 18,
   "metadata": {},
   "outputs": [
    {
     "name": "stdout",
     "output_type": "stream",
     "text": [
      "tensor([[ 0.0000,  0.0000,  0.0000,  ...,  0.0000,  0.0000,  0.0000],\n",
      "        [ 0.0000,  0.0000,  0.0000,  ...,  0.0000,  0.0000,  0.0000],\n",
      "        [ 0.0120,  0.2075, -0.1258,  ...,  0.1387, -0.3605, -0.0350],\n",
      "        ...,\n",
      "        [ 0.3759, -0.1128,  0.3870,  ...,  0.3146,  0.1263,  0.9477],\n",
      "        [ 0.6011,  0.4813,  0.3344,  ...,  0.2632,  0.5857, -0.2197],\n",
      "        [ 0.0667, -0.1165,  0.0910,  ..., -0.0081, -0.1964, -0.2732]])\n"
     ]
    }
   ],
   "source": [
    "UNK_IDX = TEXT.vocab.stoi[TEXT.unk_token]\n",
    "\n",
    "model.embedding.weight.data[UNK_IDX] = torch.zeros(EMBEDDING_DIM)\n",
    "model.embedding.weight.data[PAD_IDX] = torch.zeros(EMBEDDING_DIM)\n",
    "\n",
    "print(model.embedding.weight.data)"
   ]
  },
  {
   "cell_type": "code",
   "execution_count": 19,
   "metadata": {},
   "outputs": [],
   "source": [
    "model.embedding.weight.requires_grad = False"
   ]
  },
  {
   "cell_type": "code",
   "execution_count": 20,
   "metadata": {},
   "outputs": [
    {
     "name": "stdout",
     "output_type": "stream",
     "text": [
      "The model has 1,173,903 trainable parameters\n"
     ]
    }
   ],
   "source": [
    "def count_parameters(model):\n",
    "    return sum(p.numel() for p in model.parameters() if p.requires_grad)\n",
    "\n",
    "print(f'The model has {count_parameters(model):,} trainable parameters')"
   ]
  },
  {
   "cell_type": "code",
   "execution_count": 21,
   "metadata": {},
   "outputs": [],
   "source": [
    "import torch.optim as optim\n",
    "\n",
    "optimizer = optim.Adam(model.parameters())"
   ]
  },
  {
   "cell_type": "code",
   "execution_count": 22,
   "metadata": {},
   "outputs": [],
   "source": [
    "criterion = nn.CrossEntropyLoss()"
   ]
  },
  {
   "cell_type": "code",
   "execution_count": 23,
   "metadata": {},
   "outputs": [],
   "source": [
    "model = model.to(device)\n",
    "criterion = criterion.to(device)"
   ]
  },
  {
   "cell_type": "code",
   "execution_count": 24,
   "metadata": {},
   "outputs": [],
   "source": [
    "def categorical_accuracy(preds, y):\n",
    "    \"\"\"\n",
    "    Returns accuracy per batch, i.e. if you get 8/10 right, this returns 0.8, NOT 8\n",
    "    \"\"\"\n",
    "    max_preds = preds.argmax(dim = 1, keepdim = True) # get the index of the max probability\n",
    "    correct = max_preds.squeeze(1).eq(y)\n",
    "    return correct.sum() / torch.FloatTensor([y.shape[0]])"
   ]
  },
  {
   "cell_type": "code",
   "execution_count": 25,
   "metadata": {},
   "outputs": [],
   "source": [
    "def train(model, iterator, optimizer, criterion):\n",
    "    \n",
    "    epoch_loss = 0\n",
    "    epoch_acc = 0\n",
    "    \n",
    "    model.train()\n",
    "    \n",
    "    for batch in iterator:\n",
    "        \n",
    "        prem = batch.premise\n",
    "        hypo = batch.hypothesis\n",
    "        labels = batch.label\n",
    "        \n",
    "        optimizer.zero_grad()\n",
    "        \n",
    "        #prem = [prem sent len, batch size]\n",
    "        #hypo = [hypo sent len, batch size]\n",
    "        \n",
    "        predictions = model(prem, hypo)\n",
    "        \n",
    "        #predictions = [batch size, output dim]\n",
    "        #labels = [batch size]\n",
    "        \n",
    "        loss = criterion(predictions, labels)\n",
    "                \n",
    "        acc = categorical_accuracy(predictions, labels)\n",
    "        \n",
    "        loss.backward()\n",
    "        \n",
    "        optimizer.step()\n",
    "        \n",
    "        epoch_loss += loss.item()\n",
    "        epoch_acc += acc.item()\n",
    "        \n",
    "    return epoch_loss / len(iterator), epoch_acc / len(iterator)"
   ]
  },
  {
   "cell_type": "code",
   "execution_count": 26,
   "metadata": {},
   "outputs": [],
   "source": [
    "def evaluate(model, iterator, criterion):\n",
    "    \n",
    "    epoch_loss = 0\n",
    "    epoch_acc = 0\n",
    "    \n",
    "    model.eval()\n",
    "    \n",
    "    with torch.no_grad():\n",
    "    \n",
    "        for batch in iterator:\n",
    "\n",
    "            prem = batch.premise\n",
    "            hypo = batch.hypothesis\n",
    "            labels = batch.label\n",
    "                        \n",
    "            predictions = model(prem, hypo)\n",
    "            \n",
    "            loss = criterion(predictions, labels)\n",
    "                \n",
    "            acc = categorical_accuracy(predictions, labels)\n",
    "            \n",
    "            epoch_loss += loss.item()\n",
    "            epoch_acc += acc.item()\n",
    "        \n",
    "    return epoch_loss / len(iterator), epoch_acc / len(iterator)"
   ]
  },
  {
   "cell_type": "code",
   "execution_count": 27,
   "metadata": {},
   "outputs": [],
   "source": [
    "import time\n",
    "\n",
    "def epoch_time(start_time, end_time):\n",
    "    elapsed_time = end_time - start_time\n",
    "    elapsed_mins = int(elapsed_time / 60)\n",
    "    elapsed_secs = int(elapsed_time - (elapsed_mins * 60))\n",
    "    return elapsed_mins, elapsed_secs"
   ]
  },
  {
   "cell_type": "code",
   "execution_count": 28,
   "metadata": {},
   "outputs": [
    {
     "name": "stdout",
     "output_type": "stream",
     "text": [
      "Epoch: 01 | Epoch Time: 0m 12s\n",
      "\tTrain Loss: 1.855 | Train Acc: 42.95%\n",
      "\t Val. Loss: 0.973 |  Val. Acc: 52.50%\n",
      "Epoch: 02 | Epoch Time: 0m 12s\n",
      "\tTrain Loss: 0.933 | Train Acc: 55.26%\n",
      "\t Val. Loss: 0.874 |  Val. Acc: 61.28%\n",
      "Epoch: 03 | Epoch Time: 0m 11s\n",
      "\tTrain Loss: 0.880 | Train Acc: 59.04%\n",
      "\t Val. Loss: 0.852 |  Val. Acc: 63.60%\n",
      "Epoch: 04 | Epoch Time: 0m 11s\n",
      "\tTrain Loss: 0.844 | Train Acc: 61.62%\n",
      "\t Val. Loss: 0.821 |  Val. Acc: 65.66%\n",
      "Epoch: 05 | Epoch Time: 0m 11s\n",
      "\tTrain Loss: 0.816 | Train Acc: 63.49%\n",
      "\t Val. Loss: 0.807 |  Val. Acc: 65.35%\n",
      "Epoch: 06 | Epoch Time: 0m 12s\n",
      "\tTrain Loss: 0.790 | Train Acc: 65.28%\n",
      "\t Val. Loss: 0.779 |  Val. Acc: 67.79%\n",
      "Epoch: 07 | Epoch Time: 0m 11s\n",
      "\tTrain Loss: 0.762 | Train Acc: 67.09%\n",
      "\t Val. Loss: 0.762 |  Val. Acc: 68.23%\n",
      "Epoch: 08 | Epoch Time: 0m 11s\n",
      "\tTrain Loss: 0.740 | Train Acc: 68.37%\n",
      "\t Val. Loss: 0.731 |  Val. Acc: 69.94%\n",
      "Epoch: 09 | Epoch Time: 0m 11s\n",
      "\tTrain Loss: 0.724 | Train Acc: 69.22%\n",
      "\t Val. Loss: 0.713 |  Val. Acc: 70.50%\n",
      "Epoch: 10 | Epoch Time: 0m 12s\n",
      "\tTrain Loss: 0.707 | Train Acc: 70.25%\n",
      "\t Val. Loss: 0.696 |  Val. Acc: 71.85%\n"
     ]
    }
   ],
   "source": [
    "N_EPOCHS = 10\n",
    "\n",
    "best_valid_loss = float('inf')\n",
    "\n",
    "for epoch in range(N_EPOCHS):\n",
    "\n",
    "    start_time = time.time()\n",
    "    \n",
    "    train_loss, train_acc = train(model, train_iterator, optimizer, criterion)\n",
    "    valid_loss, valid_acc = evaluate(model, valid_iterator, criterion)\n",
    "    \n",
    "    end_time = time.time()\n",
    "\n",
    "    epoch_mins, epoch_secs = epoch_time(start_time, end_time)\n",
    "    \n",
    "    if valid_loss < best_valid_loss:\n",
    "        best_valid_loss = valid_loss\n",
    "        torch.save(model.state_dict(), 'tut1-model.pt')\n",
    "    \n",
    "    print(f'Epoch: {epoch+1:02} | Epoch Time: {epoch_mins}m {epoch_secs}s')\n",
    "    print(f'\\tTrain Loss: {train_loss:.3f} | Train Acc: {train_acc*100:.2f}%')\n",
    "    print(f'\\t Val. Loss: {valid_loss:.3f} |  Val. Acc: {valid_acc*100:.2f}%')"
   ]
  },
  {
   "cell_type": "code",
   "execution_count": 29,
   "metadata": {},
   "outputs": [
    {
     "name": "stdout",
     "output_type": "stream",
     "text": [
      "Test Loss: 0.687 |  Test Acc: 72.21%\n"
     ]
    }
   ],
   "source": [
    "test_loss, test_acc = evaluate(model, test_iterator, criterion)\n",
    "\n",
    "print(f'Test Loss: {test_loss:.3f} |  Test Acc: {test_acc*100:.2f}%')"
   ]
  },
  {
   "cell_type": "code",
   "execution_count": 30,
   "metadata": {},
   "outputs": [],
   "source": [
    "class NLIRNN(nn.Module):\n",
    "    def __init__(self, \n",
    "                 vocab_size, \n",
    "                 encode_method,\n",
    "                 embedding_dim,\n",
    "                 hidden_dim,\n",
    "                 fc_layers,\n",
    "                 output_dim, \n",
    "                 dropout, \n",
    "                 pad_idx):\n",
    "        \n",
    "        super().__init__()\n",
    "                \n",
    "        assert encode_method in {'gru', 'lstm'}\n",
    "        \n",
    "        self.encode_method = encode_method\n",
    "        \n",
    "        self.embedding = nn.Embedding(vocab_size, embedding_dim, padding_idx = pad_idx)\n",
    "        \n",
    "        self.translation = nn.Linear(embedding_dim, hidden_dim)\n",
    "        \n",
    "        if encode_method == 'gru':\n",
    "            self.rnn = nn.GRU(hidden_dim, hidden_dim)\n",
    "        elif encode_method == 'lstm':\n",
    "            self.rnn = nn.LSTM(hidden_dim, hidden_dim)\n",
    "        \n",
    "        fcs = [nn.Linear(hidden_dim * 2, hidden_dim * 2) for _ in range(fc_layers)]\n",
    "        \n",
    "        self.fcs = nn.ModuleList(fcs)\n",
    "        \n",
    "        self.fc_out = nn.Linear(hidden_dim * 2, output_dim)\n",
    "        \n",
    "        self.dropout = nn.Dropout(dropout)\n",
    "        \n",
    "    def forward(self, prem, hypo):\n",
    "\n",
    "        #prem = [prem sent len, batch size]\n",
    "        #hypo = [hypo sent len, batch size]\n",
    "        \n",
    "        embedded_prem = self.embedding(prem)\n",
    "        embedded_hypo = self.embedding(hypo)\n",
    "        \n",
    "        #embedded_premise = [prem sent len, batch size, embedding dim]\n",
    "        #embedded_hypothesis = [hypo sent len, batch size, embedding dim]\n",
    "        \n",
    "        translated_prem = F.relu(self.translation(embedded_prem))\n",
    "        translated_hypo = F.relu(self.translation(embedded_hypo))\n",
    "        \n",
    "        #embedded_premise = [prem sent len, batch size, hidden dim]\n",
    "        #embedded_hypothesis = [hypo sent len, batch size, hidden dim]\n",
    "        \n",
    "        if self.encode_method == 'gru':\n",
    "            \n",
    "            outputs_prem, hidden_prem = self.rnn(translated_prem)\n",
    "            outputs_hypo, hidden_hypo = self.rnn(translated_hypo)\n",
    "            \n",
    "            #outputs_x = [sent len, batch size, hid dim]\n",
    "            #hidden_x = [1, batch size, hid dim]\n",
    "            \n",
    "            hidden_prem = hidden_prem.squeeze(0)\n",
    "            hidden_hypo = hidden_hypo.squeeze(0)\n",
    "            \n",
    "            #hidden_x = [batch size, hid dim]\n",
    "        \n",
    "        else:\n",
    "            \n",
    "            outputs_prem, (hidden_prem, cell_prem) = self.rnn(translated_prem)\n",
    "            outputs_hypo, (hidden_hypo, cell_hypo) = self.rnn(translated_hypo)\n",
    "            \n",
    "            #outputs_x = [sent len, batch size, hid dim]\n",
    "            #hidden_x = [1, batch size, hid dim]\n",
    "            #cell_x = [1, batch size, hid dim]\n",
    "            \n",
    "            hidden_prem = hidden_prem.squeeze(0)\n",
    "            hidden_hypo = hidden_hypo.squeeze(0)\n",
    "            \n",
    "            #hidden_x = [batch size, hid dim]\n",
    "\n",
    "        hidden = torch.cat((hidden_prem, hidden_hypo), dim=1)\n",
    "\n",
    "        #hidden = [batch size, hid dim * 2]\n",
    "            \n",
    "        for fc in self.fcs:\n",
    "            hidden = fc(hidden)\n",
    "            hidden = F.relu(hidden)\n",
    "            hidden = self.dropout(hidden)\n",
    "        \n",
    "        prediction = self.fc_out(hidden)\n",
    "        \n",
    "        #prediction = [batch size, output dim]\n",
    "        \n",
    "        return prediction"
   ]
  }
 ],
 "metadata": {
  "kernelspec": {
   "display_name": "Python 3",
   "language": "python",
   "name": "python3"
  },
  "language_info": {
   "codemirror_mode": {
    "name": "ipython",
    "version": 3
   },
   "file_extension": ".py",
   "mimetype": "text/x-python",
   "name": "python",
   "nbconvert_exporter": "python",
   "pygments_lexer": "ipython3",
   "version": "3.7.0"
  }
 },
 "nbformat": 4,
 "nbformat_minor": 2
}
